{
  "nbformat": 4,
  "nbformat_minor": 0,
  "metadata": {
    "colab": {
      "provenance": [],
      "authorship_tag": "ABX9TyN64p0TRUgGY7Po0CmGEJiO",
      "include_colab_link": true
    },
    "kernelspec": {
      "name": "python3",
      "display_name": "Python 3"
    },
    "language_info": {
      "name": "python"
    }
  },
  "cells": [
    {
      "cell_type": "markdown",
      "metadata": {
        "id": "view-in-github",
        "colab_type": "text"
      },
      "source": [
        "<a href=\"https://colab.research.google.com/github/yashaswini1764/NLP/blob/main/LAB4_1764.ipynb\" target=\"_parent\"><img src=\"https://colab.research.google.com/assets/colab-badge.svg\" alt=\"Open In Colab\"/></a>"
      ]
    },
    {
      "cell_type": "code",
      "execution_count": 1,
      "metadata": {
        "id": "HgJob9seoeAM"
      },
      "outputs": [],
      "source": [
        "import pandas as pd\n",
        "import matplotlib.pyplot as plt\n",
        "import seaborn as sns"
      ]
    },
    {
      "cell_type": "code",
      "source": [
        "df = pd.read_csv(\"/content/tweets.csv\")"
      ],
      "metadata": {
        "id": "k3uPTHbBrkas"
      },
      "execution_count": 2,
      "outputs": []
    },
    {
      "cell_type": "code",
      "source": [
        "print(df.head())"
      ],
      "metadata": {
        "colab": {
          "base_uri": "https://localhost:8080/"
        },
        "id": "xE6BFYrorn06",
        "outputId": "446af896-e31b-402c-9646-9beca4810d33"
      },
      "execution_count": 3,
      "outputs": [
        {
          "output_type": "stream",
          "name": "stdout",
          "text": [
            "   id keyword        location  \\\n",
            "0   0  ablaze             NaN   \n",
            "1   1  ablaze             NaN   \n",
            "2   2  ablaze   New York City   \n",
            "3   3  ablaze  Morgantown, WV   \n",
            "4   4  ablaze             NaN   \n",
            "\n",
            "                                                text  target  \n",
            "0  Communal violence in Bhainsa, Telangana. \"Ston...       1  \n",
            "1  Telangana: Section 144 has been imposed in Bha...       1  \n",
            "2  Arsonist sets cars ablaze at dealership https:...       1  \n",
            "3  Arsonist sets cars ablaze at dealership https:...       1  \n",
            "4  \"Lord Jesus, your love brings freedom and pard...       0  \n"
          ]
        }
      ]
    },
    {
      "cell_type": "code",
      "source": [
        "label_counts = df['target'].value_counts()"
      ],
      "metadata": {
        "id": "aOIE3nZ7rtI8"
      },
      "execution_count": 4,
      "outputs": []
    },
    {
      "cell_type": "code",
      "source": [
        "sns.barplot(x=label_counts.index, y=label_counts.values, palette=\"viridis\")\n",
        "plt.title(\"Number of Tweets per Label\")\n",
        "plt.xlabel(\"Label (0 = Irrelevant, 1 = Disaster)\")\n",
        "plt.ylabel(\"Count\")\n",
        "plt.show()"
      ],
      "metadata": {
        "colab": {
          "base_uri": "https://localhost:8080/",
          "height": 579
        },
        "id": "dELGADQ0rw3c",
        "outputId": "70052c85-08e1-4a9e-978d-b0640556a922"
      },
      "execution_count": 5,
      "outputs": [
        {
          "output_type": "stream",
          "name": "stderr",
          "text": [
            "/tmp/ipython-input-4079130810.py:1: FutureWarning: \n",
            "\n",
            "Passing `palette` without assigning `hue` is deprecated and will be removed in v0.14.0. Assign the `x` variable to `hue` and set `legend=False` for the same effect.\n",
            "\n",
            "  sns.barplot(x=label_counts.index, y=label_counts.values, palette=\"viridis\")\n"
          ]
        },
        {
          "output_type": "display_data",
          "data": {
            "text/plain": [
              "<Figure size 640x480 with 1 Axes>"
            ],
            "image/png": "[encoded data removed]"
          },
          "metadata": {}
        }
      ]
    },
    {
      "cell_type": "code",
      "source": [
        "irrelevant = df[df['target']==0]['text'].sample(5, random_state=42)\n",
        "disaster   = df[df['target']==1]['text'].sample(5, random_state=42)"
      ],
      "metadata": {
        "id": "5afjLiXDr0k5"
      },
      "execution_count": 6,
      "outputs": []
    },
    {
      "cell_type": "code",
      "source": [
        "print(\"\\nIrrelevant Tweets:\\n\", irrelevant.to_string(index=False))\n",
        "print(\"\\nDisaster Tweets:\\n\", disaster.to_string(index=False))"
      ],
      "metadata": {
        "colab": {
          "base_uri": "https://localhost:8080/"
        },
        "id": "IpzUEyaAr5Z8",
        "outputId": "3ebd3efe-2cf4-4553-97fd-bef53d792ea0"
      },
      "execution_count": 7,
      "outputs": [
        {
          "output_type": "stream",
          "name": "stdout",
          "text": [
            "\n",
            "Irrelevant Tweets:\n",
            " s 1656ABAF :Battle ID I need backup! Lvl 100 Co...\n",
            "The place where these children once called home...\n",
            "i ordered one from @/wonu_hurricane ! good luck...\n",
            "             IM DEVASTATED https://t.co/ynVGOzdjuS\n",
            "forgive...Error...Iran...Vow...Punish...All...R...\n",
            "\n",
            "Disaster Tweets:\n",
            " #StormBrendan Update-8.00 Tuesday.: Significant...\n",
            "British politicians are quick to call Israel an...\n",
            "1033) British Model Madalyn Davis dies in Sydne...\n",
            "6-Alarm #Fire #BoundBrook #NewJersey Sun Massiv...\n",
            "my fatass just tripped on some shit in my room ...\n"
          ]
        }
      ]
    },
    {
      "cell_type": "code",
      "source": [
        "import re\n",
        "import nltk\n",
        "from nltk.corpus import stopwords\n",
        "from nltk.tokenize import word_tokenize\n",
        "import string\n",
        "\n",
        "nltk.download('punkt')\n",
        "nltk.download('stopwords')\n",
        "\n",
        "stop_words = set(stopwords.words('english'))\n",
        "\n",
        "def preprocess(text):\n",
        "    text = text.lower()\n",
        "    text = re.sub(r'http\\S+|www\\S+|https\\S+', '', text, flags=re.MULTILINE)\n",
        "    text = re.sub(r'[^a-z\\s]', '', text)\n",
        "    text = text.translate(str.maketrans('', '', string.punctuation))\n",
        "    tokens = word_tokenize(text)\n",
        "    tokens = [word for word in tokens if word not in stop_words]\n",
        "    return tokens"
      ],
      "metadata": {
        "colab": {
          "base_uri": "https://localhost:8080/"
        },
        "id": "UDQwBtEKr88D",
        "outputId": "ac99cdef-cbcb-4443-9c77-afb1d9a7d1db"
      },
      "execution_count": 10,
      "outputs": [
        {
          "output_type": "stream",
          "name": "stderr",
          "text": [
            "[nltk_data] Downloading package punkt to /root/nltk_data...\n",
            "[nltk_data]   Package punkt is already up-to-date!\n",
            "[nltk_data] Downloading package stopwords to /root/nltk_data...\n",
            "[nltk_data]   Package stopwords is already up-to-date!\n"
          ]
        }
      ]
    },
    {
      "cell_type": "code",
      "source": [
        "from nltk.stem import PorterStemmer, WordNetLemmatizer\n",
        "import re\n",
        "import nltk\n",
        "from nltk.corpus import stopwords\n",
        "from nltk.tokenize import word_tokenize\n",
        "import string\n",
        "\n",
        "nltk.download('punkt')\n",
        "nltk.download('stopwords')\n",
        "nltk.download('wordnet')\n",
        "nltk.download('punkt_tab') # Added this line to download the missing resource\n",
        "\n",
        "stop_words = set(stopwords.words('english'))\n",
        "\n",
        "def preprocess(text):\n",
        "    text = text.lower()\n",
        "    text = re.sub(r'http\\S+|www\\S+|https\\S+', '', text, flags=re.MULTILINE)\n",
        "    text = re.sub(r'[^a-z\\s]', '', text)\n",
        "    text = text.translate(str.maketrans('', '', string.punctuation))\n",
        "    tokens = word_tokenize(text)\n",
        "    tokens = [word for word in tokens if word not in stop_words]\n",
        "    return tokens\n",
        "\n",
        "ps = PorterStemmer()\n",
        "lemmatizer = WordNetLemmatizer()\n",
        "\n",
        "sample_texts = df['text'].sample(5)\n",
        "\n",
        "comparison = []\n",
        "for text in sample_texts:\n",
        "    tokens = preprocess(text)\n",
        "    stemmed = [ps.stem(w) for w in tokens]\n",
        "    lemmatized = [lemmatizer.lemmatize(w) for w in tokens] # Apply lemmatize to each word in the list\n",
        "    comparison.append([text, \" \".join(stemmed), \" \".join(lemmatized)])\n",
        "\n",
        "comp_df = pd.DataFrame(comparison, columns=['Original','Stemmed','Lemmatized'])\n",
        "print(comp_df)"
      ],
      "metadata": {
        "colab": {
          "base_uri": "https://localhost:8080/"
        },
        "id": "SJMPPMAQsBrZ",
        "outputId": "c8185d50-89d6-43ff-f4af-e2c3b6a4003a"
      },
      "execution_count": 12,
      "outputs": [
        {
          "output_type": "stream",
          "name": "stderr",
          "text": [
            "[nltk_data] Downloading package punkt to /root/nltk_data...\n",
            "[nltk_data]   Package punkt is already up-to-date!\n",
            "[nltk_data] Downloading package stopwords to /root/nltk_data...\n",
            "[nltk_data]   Package stopwords is already up-to-date!\n",
            "[nltk_data] Downloading package wordnet to /root/nltk_data...\n",
            "[nltk_data]   Package wordnet is already up-to-date!\n",
            "[nltk_data] Downloading package punkt_tab to /root/nltk_data...\n",
            "[nltk_data]   Unzipping tokenizers/punkt_tab.zip.\n"
          ]
        },
        {
          "output_type": "stream",
          "name": "stdout",
          "text": [
            "                                            Original  \\\n",
            "0  Menopause The Musical 2: Cruising Through Meno...   \n",
            "1  Too late for crusty OLD basterds (sic). Harden...   \n",
            "2  Aussie teacher caught up in Philippines volcan...   \n",
            "3  Map of felt reports received so far following ...   \n",
            "4  i have been dreaming of this, him standing on ...   \n",
            "\n",
            "                                             Stemmed  \\\n",
            "0  menopaus music cruis menopaus wednesday march ...   \n",
            "1  late crusti old basterd sic harden heart brain...   \n",
            "2  aussi teacher caught philippin volcano erupt r...   \n",
            "3  map felt report receiv far follow earthquak pu...   \n",
            "4                      dream stand ledg group crimin   \n",
            "\n",
            "                                          Lemmatized  \n",
            "0  menopause musical cruising menopause wednesday...  \n",
            "1  late crusty old basterds sic hardening heart b...  \n",
            "2  aussie teacher caught philippine volcano erupt...  \n",
            "3  map felt report received far following earthqu...  \n",
            "4             dreaming standing ledge group criminal  \n"
          ]
        }
      ]
    },
    {
      "cell_type": "code",
      "source": [
        "from collections import Counter\n",
        "\n",
        "df['clean_tokens'] = df['text'].apply(preprocess)\n",
        "\n",
        "disaster_words = df[df['target']==1]['clean_tokens'].sum()\n",
        "word_freq = Counter(disaster_words).most_common(15)\n",
        "\n",
        "words, counts = zip(*word_freq)\n",
        "plt.bar(words, counts)\n",
        "plt.xticks(rotation=45)\n",
        "plt.title(\"Top 15 Frequent Words in Disaster Tweets\")\n",
        "plt.show()"
      ],
      "metadata": {
        "colab": {
          "base_uri": "https://localhost:8080/",
          "height": 515
        },
        "id": "kLtUh59bsaqO",
        "outputId": "fdf95bd6-7591-4a17-a9ea-8fb70cd0abfd"
      },
      "execution_count": 14,
      "outputs": [
        {
          "output_type": "display_data",
          "data": {
            "text/plain": [
              "<Figure size 640x480 with 1 Axes>"
            ],
            "image/png": "[encoded data removed]"
          },
          "metadata": {}
        }
      ]
    },
    {
      "cell_type": "code",
      "source": [
        "df['raw_length'] = df['text'].apply(lambda x: len(word_tokenize(x)))\n",
        "df['clean_length'] = df['clean_tokens'].apply(len)\n",
        "\n",
        "print(\"Average length before preprocessing:\", df['raw_length'].mean())\n",
        "print(\"Average length after preprocessing:\", df['clean_length'].mean())"
      ],
      "metadata": {
        "colab": {
          "base_uri": "https://localhost:8080/"
        },
        "id": "Pe6szuDwsg-6",
        "outputId": "bbab374c-2711-4872-83e7-82f2ad970c5e"
      },
      "execution_count": 15,
      "outputs": [
        {
          "output_type": "stream",
          "name": "stdout",
          "text": [
            "Average length before preprocessing: 20.775549692172383\n",
            "Average length after preprocessing: 9.620404573438874\n"
          ]
        }
      ]
    },
    {
      "cell_type": "code",
      "source": [
        "from sklearn.feature_extraction.text import TfidfVectorizer\n",
        "\n",
        "df['clean_text'] = df['clean_tokens'].apply(lambda x: \" \".join(x))\n",
        "\n",
        "tfidf = TfidfVectorizer(max_features=5000)\n",
        "X = tfidf.fit_transform(df['clean_text'])\n",
        "y = df['target']"
      ],
      "metadata": {
        "id": "BQyAZJd7syfO"
      },
      "execution_count": 16,
      "outputs": []
    },
    {
      "cell_type": "code",
      "source": [
        "from sklearn.model_selection import train_test_split\n",
        "from sklearn.linear_model import LogisticRegression\n",
        "from sklearn.metrics import classification_report, confusion_matrix\n",
        "import seaborn as sns\n",
        "\n",
        "X_train, X_test, y_train, y_test = train_test_split(X, y, test_size=0.2, random_state=42)\n",
        "\n",
        "model = LogisticRegression(max_iter=200)\n",
        "model.fit(X_train, y_train)\n",
        "\n",
        "y_pred = model.predict(X_test)\n",
        "\n",
        "print(classification_report(y_test, y_pred))"
      ],
      "metadata": {
        "colab": {
          "base_uri": "https://localhost:8080/"
        },
        "id": "K1QrMSSvs1t8",
        "outputId": "0b1d2ded-3105-4ea1-9b2c-d17ec727933f"
      },
      "execution_count": 17,
      "outputs": [
        {
          "output_type": "stream",
          "name": "stdout",
          "text": [
            "              precision    recall  f1-score   support\n",
            "\n",
            "           0       0.89      0.99      0.94      1878\n",
            "           1       0.89      0.40      0.55       396\n",
            "\n",
            "    accuracy                           0.89      2274\n",
            "   macro avg       0.89      0.69      0.74      2274\n",
            "weighted avg       0.89      0.89      0.87      2274\n",
            "\n"
          ]
        }
      ]
    },
    {
      "cell_type": "code",
      "source": [],
      "metadata": {
        "id": "AxwMcApfs64s"
      },
      "execution_count": null,
      "outputs": []
    }
  ]
}