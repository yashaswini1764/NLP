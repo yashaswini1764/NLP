{
  "nbformat": 4,
  "nbformat_minor": 0,
  "metadata": {
    "colab": {
      "provenance": [],
      "authorship_tag": "ABX9TyM3QZxeCO8DkyJx+pifa58x",
      "include_colab_link": true
    },
    "kernelspec": {
      "name": "python3",
      "display_name": "Python 3"
    },
    "language_info": {
      "name": "python"
    }
  },
  "cells": [
    {
      "cell_type": "markdown",
      "metadata": {
        "id": "view-in-github",
        "colab_type": "text"
      },
      "source": [
        "<a href=\"https://colab.research.google.com/github/yashaswini1764/NLP/blob/main/LAB1_NLP.ipynb\" target=\"_parent\"><img src=\"https://colab.research.google.com/assets/colab-badge.svg\" alt=\"Open In Colab\"/></a>"
      ]
    },
    {
      "cell_type": "code",
      "source": [
        "!pip install pandas spacy\n",
        "import pandas as pd\n",
        "df=pd.read_csv('/content/bbc_news .csv')\n",
        "print(df)"
      ],
      "metadata": {
        "colab": {
          "base_uri": "https://localhost:8080/"
        },
        "id": "A-LD-U5fIPEO",
        "outputId": "14297a92-3644-46f7-8eb2-70d8e442ed16"
      },
      "execution_count": 6,
      "outputs": [
        {
          "output_type": "stream",
          "name": "stdout",
          "text": [
            "Requirement already satisfied: pandas in /usr/local/lib/python3.12/dist-packages (2.2.2)\n",
            "Requirement already satisfied: spacy in /usr/local/lib/python3.12/dist-packages (3.8.7)\n",
            "Requirement already satisfied: numpy>=1.26.0 in /usr/local/lib/python3.12/dist-packages (from pandas) (2.0.2)\n",
            "Requirement already satisfied: python-dateutil>=2.8.2 in /usr/local/lib/python3.12/dist-packages (from pandas) (2.9.0.post0)\n",
            "Requirement already satisfied: pytz>=2020.1 in /usr/local/lib/python3.12/dist-packages (from pandas) (2025.2)\n",
            "Requirement already satisfied: tzdata>=2022.7 in /usr/local/lib/python3.12/dist-packages (from pandas) (2025.2)\n",
            "Requirement already satisfied: spacy-legacy<3.1.0,>=3.0.11 in /usr/local/lib/python3.12/dist-packages (from spacy) (3.0.12)\n",
            "Requirement already satisfied: spacy-loggers<2.0.0,>=1.0.0 in /usr/local/lib/python3.12/dist-packages (from spacy) (1.0.5)\n",
            "Requirement already satisfied: murmurhash<1.1.0,>=0.28.0 in /usr/local/lib/python3.12/dist-packages (from spacy) (1.0.13)\n",
            "Requirement already satisfied: cymem<2.1.0,>=2.0.2 in /usr/local/lib/python3.12/dist-packages (from spacy) (2.0.11)\n",
            "Requirement already satisfied: preshed<3.1.0,>=3.0.2 in /usr/local/lib/python3.12/dist-packages (from spacy) (3.0.10)\n",
            "Requirement already satisfied: thinc<8.4.0,>=8.3.4 in /usr/local/lib/python3.12/dist-packages (from spacy) (8.3.6)\n",
            "Requirement already satisfied: wasabi<1.2.0,>=0.9.1 in /usr/local/lib/python3.12/dist-packages (from spacy) (1.1.3)\n",
            "Requirement already satisfied: srsly<3.0.0,>=2.4.3 in /usr/local/lib/python3.12/dist-packages (from spacy) (2.5.1)\n",
            "Requirement already satisfied: catalogue<2.1.0,>=2.0.6 in /usr/local/lib/python3.12/dist-packages (from spacy) (2.0.10)\n",
            "Requirement already satisfied: weasel<0.5.0,>=0.1.0 in /usr/local/lib/python3.12/dist-packages (from spacy) (0.4.1)\n",
            "Requirement already satisfied: typer<1.0.0,>=0.3.0 in /usr/local/lib/python3.12/dist-packages (from spacy) (0.16.0)\n",
            "Requirement already satisfied: tqdm<5.0.0,>=4.38.0 in /usr/local/lib/python3.12/dist-packages (from spacy) (4.67.1)\n",
            "Requirement already satisfied: requests<3.0.0,>=2.13.0 in /usr/local/lib/python3.12/dist-packages (from spacy) (2.32.3)\n",
            "Requirement already satisfied: pydantic!=1.8,!=1.8.1,<3.0.0,>=1.7.4 in /usr/local/lib/python3.12/dist-packages (from spacy) (2.11.7)\n",
            "Requirement already satisfied: jinja2 in /usr/local/lib/python3.12/dist-packages (from spacy) (3.1.6)\n",
            "Requirement already satisfied: setuptools in /usr/local/lib/python3.12/dist-packages (from spacy) (75.2.0)\n",
            "Requirement already satisfied: packaging>=20.0 in /usr/local/lib/python3.12/dist-packages (from spacy) (25.0)\n",
            "Requirement already satisfied: langcodes<4.0.0,>=3.2.0 in /usr/local/lib/python3.12/dist-packages (from spacy) (3.5.0)\n",
            "Requirement already satisfied: language-data>=1.2 in /usr/local/lib/python3.12/dist-packages (from langcodes<4.0.0,>=3.2.0->spacy) (1.3.0)\n",
            "Requirement already satisfied: annotated-types>=0.6.0 in /usr/local/lib/python3.12/dist-packages (from pydantic!=1.8,!=1.8.1,<3.0.0,>=1.7.4->spacy) (0.7.0)\n",
            "Requirement already satisfied: pydantic-core==2.33.2 in /usr/local/lib/python3.12/dist-packages (from pydantic!=1.8,!=1.8.1,<3.0.0,>=1.7.4->spacy) (2.33.2)\n",
            "Requirement already satisfied: typing-extensions>=4.12.2 in /usr/local/lib/python3.12/dist-packages (from pydantic!=1.8,!=1.8.1,<3.0.0,>=1.7.4->spacy) (4.14.1)\n",
            "Requirement already satisfied: typing-inspection>=0.4.0 in /usr/local/lib/python3.12/dist-packages (from pydantic!=1.8,!=1.8.1,<3.0.0,>=1.7.4->spacy) (0.4.1)\n",
            "Requirement already satisfied: six>=1.5 in /usr/local/lib/python3.12/dist-packages (from python-dateutil>=2.8.2->pandas) (1.17.0)\n",
            "Requirement already satisfied: charset-normalizer<4,>=2 in /usr/local/lib/python3.12/dist-packages (from requests<3.0.0,>=2.13.0->spacy) (3.4.3)\n",
            "Requirement already satisfied: idna<4,>=2.5 in /usr/local/lib/python3.12/dist-packages (from requests<3.0.0,>=2.13.0->spacy) (3.10)\n",
            "Requirement already satisfied: urllib3<3,>=1.21.1 in /usr/local/lib/python3.12/dist-packages (from requests<3.0.0,>=2.13.0->spacy) (2.5.0)\n",
            "Requirement already satisfied: certifi>=2017.4.17 in /usr/local/lib/python3.12/dist-packages (from requests<3.0.0,>=2.13.0->spacy) (2025.8.3)\n",
            "Requirement already satisfied: blis<1.4.0,>=1.3.0 in /usr/local/lib/python3.12/dist-packages (from thinc<8.4.0,>=8.3.4->spacy) (1.3.0)\n",
            "Requirement already satisfied: confection<1.0.0,>=0.0.1 in /usr/local/lib/python3.12/dist-packages (from thinc<8.4.0,>=8.3.4->spacy) (0.1.5)\n",
            "Requirement already satisfied: click>=8.0.0 in /usr/local/lib/python3.12/dist-packages (from typer<1.0.0,>=0.3.0->spacy) (8.2.1)\n",
            "Requirement already satisfied: shellingham>=1.3.0 in /usr/local/lib/python3.12/dist-packages (from typer<1.0.0,>=0.3.0->spacy) (1.5.4)\n",
            "Requirement already satisfied: rich>=10.11.0 in /usr/local/lib/python3.12/dist-packages (from typer<1.0.0,>=0.3.0->spacy) (13.9.4)\n",
            "Requirement already satisfied: cloudpathlib<1.0.0,>=0.7.0 in /usr/local/lib/python3.12/dist-packages (from weasel<0.5.0,>=0.1.0->spacy) (0.21.1)\n",
            "Requirement already satisfied: smart-open<8.0.0,>=5.2.1 in /usr/local/lib/python3.12/dist-packages (from weasel<0.5.0,>=0.1.0->spacy) (7.3.0.post1)\n",
            "Requirement already satisfied: MarkupSafe>=2.0 in /usr/local/lib/python3.12/dist-packages (from jinja2->spacy) (3.0.2)\n",
            "Requirement already satisfied: marisa-trie>=1.1.0 in /usr/local/lib/python3.12/dist-packages (from language-data>=1.2->langcodes<4.0.0,>=3.2.0->spacy) (1.2.1)\n",
            "Requirement already satisfied: markdown-it-py>=2.2.0 in /usr/local/lib/python3.12/dist-packages (from rich>=10.11.0->typer<1.0.0,>=0.3.0->spacy) (4.0.0)\n",
            "Requirement already satisfied: pygments<3.0.0,>=2.13.0 in /usr/local/lib/python3.12/dist-packages (from rich>=10.11.0->typer<1.0.0,>=0.3.0->spacy) (2.19.2)\n",
            "Requirement already satisfied: wrapt in /usr/local/lib/python3.12/dist-packages (from smart-open<8.0.0,>=5.2.1->weasel<0.5.0,>=0.1.0->spacy) (1.17.3)\n",
            "Requirement already satisfied: mdurl~=0.1 in /usr/local/lib/python3.12/dist-packages (from markdown-it-py>=2.2.0->rich>=10.11.0->typer<1.0.0,>=0.3.0->spacy) (0.1.2)\n",
            "                                                   title  \\\n",
            "0      Ukraine: Angry Zelensky vows to punish Russian...   \n",
            "1      War in Ukraine: Taking cover in a town under a...   \n",
            "2             Ukraine war 'catastrophic for global food'   \n",
            "3      Manchester Arena bombing: Saffie Roussos's par...   \n",
            "4      Ukraine conflict: Oil price soars to highest l...   \n",
            "...                                                  ...   \n",
            "42110           Highlights: Wales make history in Dublin   \n",
            "42111  Gang jailed over £200m of cocaine in banana boxes   \n",
            "42112   Scottish Budget presents huge challenges for SNP   \n",
            "42113  Celebrations as Wales make history qualifying ...   \n",
            "42114  School tells Muslim girls it’s ‘not safe’ for ...   \n",
            "\n",
            "                             pubDate  \\\n",
            "0      Mon, 07 Mar 2022 08:01:56 GMT   \n",
            "1      Sun, 06 Mar 2022 22:49:58 GMT   \n",
            "2      Mon, 07 Mar 2022 00:14:42 GMT   \n",
            "3      Mon, 07 Mar 2022 00:05:40 GMT   \n",
            "4      Mon, 07 Mar 2022 08:15:53 GMT   \n",
            "...                              ...   \n",
            "42110  Tue, 03 Dec 2024 23:07:27 GMT   \n",
            "42111  Tue, 03 Dec 2024 17:48:54 GMT   \n",
            "42112  Tue, 03 Dec 2024 23:00:17 GMT   \n",
            "42113  Wed, 04 Dec 2024 00:05:52 GMT   \n",
            "42114  Wed, 04 Dec 2024 00:03:58 GMT   \n",
            "\n",
            "                                                    guid  \\\n",
            "0       https://www.bbc.co.uk/news/world-europe-60638042   \n",
            "1       https://www.bbc.co.uk/news/world-europe-60641873   \n",
            "2           https://www.bbc.co.uk/news/business-60623941   \n",
            "3                 https://www.bbc.co.uk/news/uk-60579079   \n",
            "4           https://www.bbc.co.uk/news/business-60642786   \n",
            "...                                                  ...   \n",
            "42110  https://www.bbc.com/sport/football/videos/ckg1...   \n",
            "42111   https://www.bbc.com/news/articles/c3e8pvg284no#9   \n",
            "42112   https://www.bbc.com/news/articles/ckg1m1j2grpo#9   \n",
            "42113   https://www.bbc.com/news/articles/c791nq8nl73o#9   \n",
            "42114   https://www.bbc.com/news/articles/cx2wk0k4597o#9   \n",
            "\n",
            "                                                    link  \\\n",
            "0      https://www.bbc.co.uk/news/world-europe-606380...   \n",
            "1      https://www.bbc.co.uk/news/world-europe-606418...   \n",
            "2      https://www.bbc.co.uk/news/business-60623941?a...   \n",
            "3      https://www.bbc.co.uk/news/uk-60579079?at_medi...   \n",
            "4      https://www.bbc.co.uk/news/business-60642786?a...   \n",
            "...                                                  ...   \n",
            "42110  https://www.bbc.com/sport/football/videos/ckg1...   \n",
            "42111     https://www.bbc.com/news/articles/c3e8pvg284no   \n",
            "42112     https://www.bbc.com/news/articles/ckg1m1j2grpo   \n",
            "42113     https://www.bbc.com/news/articles/c791nq8nl73o   \n",
            "42114     https://www.bbc.com/news/articles/cx2wk0k4597o   \n",
            "\n",
            "                                             description  \n",
            "0      The Ukrainian president says the country will ...  \n",
            "1      Jeremy Bowen was on the frontline in Irpin, as...  \n",
            "2      One of the world's biggest fertiliser firms sa...  \n",
            "3      The parents of the Manchester Arena bombing's ...  \n",
            "4      Consumers are feeling the impact of higher ene...  \n",
            "...                                                  ...  \n",
            "42110  Watch highlights as Wales win 2-1 in Dublin fo...  \n",
            "42111  More than two tonnes of the Class A drug was s...  \n",
            "42112  Finance Secretary Shona Robison is preparing t...  \n",
            "42113  Wales defeated the Republic of Ireland 2-1 mak...  \n",
            "42114  Three children have not been back to the Belfa...  \n",
            "\n",
            "[42115 rows x 5 columns]\n"
          ]
        }
      ]
    },
    {
      "cell_type": "code",
      "source": [
        "print(df['title'])"
      ],
      "metadata": {
        "colab": {
          "base_uri": "https://localhost:8080/"
        },
        "id": "DYfvHafjJqSy",
        "outputId": "8ae8bae4-a03f-4bae-fe8b-5834d77ff80a"
      },
      "execution_count": 7,
      "outputs": [
        {
          "output_type": "stream",
          "name": "stdout",
          "text": [
            "0        Ukraine: Angry Zelensky vows to punish Russian...\n",
            "1        War in Ukraine: Taking cover in a town under a...\n",
            "2               Ukraine war 'catastrophic for global food'\n",
            "3        Manchester Arena bombing: Saffie Roussos's par...\n",
            "4        Ukraine conflict: Oil price soars to highest l...\n",
            "                               ...                        \n",
            "42110             Highlights: Wales make history in Dublin\n",
            "42111    Gang jailed over £200m of cocaine in banana boxes\n",
            "42112     Scottish Budget presents huge challenges for SNP\n",
            "42113    Celebrations as Wales make history qualifying ...\n",
            "42114    School tells Muslim girls it’s ‘not safe’ for ...\n",
            "Name: title, Length: 42115, dtype: object\n"
          ]
        }
      ]
    },
    {
      "cell_type": "code",
      "source": [
        "import spacy\n",
        "nlp=spacy.load('en_core_web_sm')\n",
        "doc=nlp(df['title'][0])\n",
        "print(doc)"
      ],
      "metadata": {
        "colab": {
          "base_uri": "https://localhost:8080/"
        },
        "id": "kyE5VXHtJ60I",
        "outputId": "ef9d8980-ecaf-4442-f9da-e452e9874b21"
      },
      "execution_count": 8,
      "outputs": [
        {
          "output_type": "stream",
          "name": "stdout",
          "text": [
            "Ukraine: Angry Zelensky vows to punish Russian atrocities\n"
          ]
        }
      ]
    },
    {
      "cell_type": "code",
      "source": [
        "print(\"\\n o Sentence Tokenization:\")\n",
        "for sent in doc.sents:\n",
        "    print(sent.text)"
      ],
      "metadata": {
        "colab": {
          "base_uri": "https://localhost:8080/"
        },
        "id": "0XGNbJ2FKBcQ",
        "outputId": "70a2a50e-946a-49e0-a695-eb3b007a2cbe"
      },
      "execution_count": 9,
      "outputs": [
        {
          "output_type": "stream",
          "name": "stdout",
          "text": [
            "\n",
            " o Sentence Tokenization:\n",
            "Ukraine: Angry Zelensky vows to punish Russian atrocities\n"
          ]
        }
      ]
    },
    {
      "cell_type": "code",
      "source": [
        "print(\"\\n o Word Tokenization:\")\n",
        "for token in doc:\n",
        "    print(token.text)"
      ],
      "metadata": {
        "colab": {
          "base_uri": "https://localhost:8080/"
        },
        "id": "qPrGyPTqKGA9",
        "outputId": "956a79da-ab64-4709-848d-f79839274d08"
      },
      "execution_count": 10,
      "outputs": [
        {
          "output_type": "stream",
          "name": "stdout",
          "text": [
            "\n",
            " o Word Tokenization:\n",
            "Ukraine\n",
            ":\n",
            "Angry\n",
            "Zelensky\n",
            "vows\n",
            "to\n",
            "punish\n",
            "Russian\n",
            "atrocities\n"
          ]
        }
      ]
    },
    {
      "cell_type": "code",
      "source": [
        "print(\"\\n o Word Tokenization:\")\n",
        "for i, token in enumerate(doc):\n",
        "    if i < 10:\n",
        "        print(token.text)\n",
        "    else:\n",
        "        break"
      ],
      "metadata": {
        "colab": {
          "base_uri": "https://localhost:8080/"
        },
        "id": "Fr1zliq9KJuM",
        "outputId": "82aa7a2f-a1da-4748-a77d-8296d944e3f9"
      },
      "execution_count": 13,
      "outputs": [
        {
          "output_type": "stream",
          "name": "stdout",
          "text": [
            "\n",
            " o Word Tokenization:\n",
            "Ukraine\n",
            ":\n",
            "Angry\n",
            "Zelensky\n",
            "vows\n",
            "to\n",
            "punish\n",
            "Russian\n",
            "atrocities\n"
          ]
        }
      ]
    },
    {
      "cell_type": "code",
      "source": [
        "import spacy\n",
        "nlp=spacy.load('en_core_web_sm')\n",
        "titles_text = ' '.join(df['title'][0:10])\n",
        "doc=nlp(titles_text)\n",
        "print(doc)"
      ],
      "metadata": {
        "colab": {
          "base_uri": "https://localhost:8080/"
        },
        "id": "WhqOsUDKKuOM",
        "outputId": "6b821c45-4d86-40d7-c2b0-bcff5548befe"
      },
      "execution_count": 14,
      "outputs": [
        {
          "output_type": "stream",
          "name": "stdout",
          "text": [
            "Ukraine: Angry Zelensky vows to punish Russian atrocities War in Ukraine: Taking cover in a town under attack Ukraine war 'catastrophic for global food' Manchester Arena bombing: Saffie Roussos's parents on hearing the truth Ukraine conflict: Oil price soars to highest level since 2008 Ukraine war: PM to hold talks with world leaders on further sanctions Ukraine war: UK grants 50 Ukrainian refugee visas so far TikTok limits services as Netflix pulls out of Russia Covid: Fourth jab for Scotland's vulnerable, and testing wind down fears in Wales Protests across Russia see thousands detained\n"
          ]
        }
      ]
    },
    {
      "cell_type": "code",
      "source": [
        "import spacy\n",
        "nlp=spacy.load('en_core_web_sm')\n",
        "doc=nlp(df['description'][0])\n",
        "print(doc)"
      ],
      "metadata": {
        "colab": {
          "base_uri": "https://localhost:8080/"
        },
        "id": "TC9GvBkfKzUL",
        "outputId": "0d9271e9-2245-41c1-9566-94802a330005"
      },
      "execution_count": 15,
      "outputs": [
        {
          "output_type": "stream",
          "name": "stdout",
          "text": [
            "The Ukrainian president says the country will not forgive or forget those who murder its civilians.\n"
          ]
        }
      ]
    },
    {
      "cell_type": "code",
      "source": [
        "text=\"Wikipedia, free Internet-based encyclopedia, started in 2001, that operates under an open-source management style. It is overseen by the nonprofit Wikimedia Foundation. Wikipedia uses collaborative software known as a wiki that facilitates the creation and development of articles. Although some highly publicized problems have called attention to Wikipedia’s editorial process, they have done little to dampen public use of the resource, which is one of the most visited sites on the Internet.\""
      ],
      "metadata": {
        "id": "X7wO7N8_K4DW"
      },
      "execution_count": 16,
      "outputs": []
    },
    {
      "cell_type": "code",
      "source": [
        "print(text)"
      ],
      "metadata": {
        "colab": {
          "base_uri": "https://localhost:8080/"
        },
        "id": "SRGdKARrK81j",
        "outputId": "2b09b99a-0aa3-48bf-b360-2fdbe465b138"
      },
      "execution_count": 17,
      "outputs": [
        {
          "output_type": "stream",
          "name": "stdout",
          "text": [
            "Wikipedia, free Internet-based encyclopedia, started in 2001, that operates under an open-source management style. It is overseen by the nonprofit Wikimedia Foundation. Wikipedia uses collaborative software known as a wiki that facilitates the creation and development of articles. Although some highly publicized problems have called attention to Wikipedia’s editorial process, they have done little to dampen public use of the resource, which is one of the most visited sites on the Internet.\n"
          ]
        }
      ]
    },
    {
      "cell_type": "code",
      "source": [
        "doc=nlp(text)\n",
        "print(doc)"
      ],
      "metadata": {
        "colab": {
          "base_uri": "https://localhost:8080/"
        },
        "id": "rPtJcl7oLLIH",
        "outputId": "f12afe69-bee6-4e66-dc19-e3f41f868ec7"
      },
      "execution_count": 18,
      "outputs": [
        {
          "output_type": "stream",
          "name": "stdout",
          "text": [
            "Wikipedia, free Internet-based encyclopedia, started in 2001, that operates under an open-source management style. It is overseen by the nonprofit Wikimedia Foundation. Wikipedia uses collaborative software known as a wiki that facilitates the creation and development of articles. Although some highly publicized problems have called attention to Wikipedia’s editorial process, they have done little to dampen public use of the resource, which is one of the most visited sites on the Internet.\n"
          ]
        }
      ]
    },
    {
      "cell_type": "code",
      "source": [
        "for t in doc:\n",
        "    if t.is_alpha:\n",
        "       print(t)"
      ],
      "metadata": {
        "colab": {
          "base_uri": "https://localhost:8080/"
        },
        "id": "vbv9ZnP2LSU-",
        "outputId": "5e8a271b-ee24-4771-954a-01df7e29af6e"
      },
      "execution_count": 20,
      "outputs": [
        {
          "output_type": "stream",
          "name": "stdout",
          "text": [
            "Wikipedia\n",
            "free\n",
            "Internet\n",
            "based\n",
            "encyclopedia\n",
            "started\n",
            "in\n",
            "that\n",
            "operates\n",
            "under\n",
            "an\n",
            "open\n",
            "source\n",
            "management\n",
            "style\n",
            "It\n",
            "is\n",
            "overseen\n",
            "by\n",
            "the\n",
            "nonprofit\n",
            "Wikimedia\n",
            "Foundation\n",
            "Wikipedia\n",
            "uses\n",
            "collaborative\n",
            "software\n",
            "known\n",
            "as\n",
            "a\n",
            "wiki\n",
            "that\n",
            "facilitates\n",
            "the\n",
            "creation\n",
            "and\n",
            "development\n",
            "of\n",
            "articles\n",
            "Although\n",
            "some\n",
            "highly\n",
            "publicized\n",
            "problems\n",
            "have\n",
            "called\n",
            "attention\n",
            "to\n",
            "Wikipedia\n",
            "editorial\n",
            "process\n",
            "they\n",
            "have\n",
            "done\n",
            "little\n",
            "to\n",
            "dampen\n",
            "public\n",
            "use\n",
            "of\n",
            "the\n",
            "resource\n",
            "which\n",
            "is\n",
            "one\n",
            "of\n",
            "the\n",
            "most\n",
            "visited\n",
            "sites\n",
            "on\n",
            "the\n",
            "Internet\n"
          ]
        }
      ]
    },
    {
      "cell_type": "code",
      "source": [
        "from nltk.stem import PorterStemmer\n",
        "st=PorterStemmer()\n",
        "for t in doc:\n",
        "    if t.is_alpha:\n",
        "        print(t)\n",
        "        print(t,\"===\",t.lemma_,\"===\",st.stem(t.text))"
      ],
      "metadata": {
        "colab": {
          "base_uri": "https://localhost:8080/"
        },
        "id": "7nJZtIDDLifh",
        "outputId": "10970cb8-3896-40f5-95c7-aab7a1b2851c"
      },
      "execution_count": 21,
      "outputs": [
        {
          "output_type": "stream",
          "name": "stdout",
          "text": [
            "Wikipedia\n",
            "Wikipedia === Wikipedia === wikipedia\n",
            "free\n",
            "free === free === free\n",
            "Internet\n",
            "Internet === internet === internet\n",
            "based\n",
            "based === base === base\n",
            "encyclopedia\n",
            "encyclopedia === encyclopedia === encyclopedia\n",
            "started\n",
            "started === start === start\n",
            "in\n",
            "in === in === in\n",
            "that\n",
            "that === that === that\n",
            "operates\n",
            "operates === operate === oper\n",
            "under\n",
            "under === under === under\n",
            "an\n",
            "an === an === an\n",
            "open\n",
            "open === open === open\n",
            "source\n",
            "source === source === sourc\n",
            "management\n",
            "management === management === manag\n",
            "style\n",
            "style === style === style\n",
            "It\n",
            "It === it === it\n",
            "is\n",
            "is === be === is\n",
            "overseen\n",
            "overseen === oversee === overseen\n",
            "by\n",
            "by === by === by\n",
            "the\n",
            "the === the === the\n",
            "nonprofit\n",
            "nonprofit === nonprofit === nonprofit\n",
            "Wikimedia\n",
            "Wikimedia === Wikimedia === wikimedia\n",
            "Foundation\n",
            "Foundation === Foundation === foundat\n",
            "Wikipedia\n",
            "Wikipedia === Wikipedia === wikipedia\n",
            "uses\n",
            "uses === use === use\n",
            "collaborative\n",
            "collaborative === collaborative === collabor\n",
            "software\n",
            "software === software === softwar\n",
            "known\n",
            "known === know === known\n",
            "as\n",
            "as === as === as\n",
            "a\n",
            "a === a === a\n",
            "wiki\n",
            "wiki === wiki === wiki\n",
            "that\n",
            "that === that === that\n",
            "facilitates\n",
            "facilitates === facilitate === facilit\n",
            "the\n",
            "the === the === the\n",
            "creation\n",
            "creation === creation === creation\n",
            "and\n",
            "and === and === and\n",
            "development\n",
            "development === development === develop\n",
            "of\n",
            "of === of === of\n",
            "articles\n",
            "articles === article === articl\n",
            "Although\n",
            "Although === although === although\n",
            "some\n",
            "some === some === some\n",
            "highly\n",
            "highly === highly === highli\n",
            "publicized\n",
            "publicized === publicize === public\n",
            "problems\n",
            "problems === problem === problem\n",
            "have\n",
            "have === have === have\n",
            "called\n",
            "called === call === call\n",
            "attention\n",
            "attention === attention === attent\n",
            "to\n",
            "to === to === to\n",
            "Wikipedia\n",
            "Wikipedia === Wikipedia === wikipedia\n",
            "editorial\n",
            "editorial === editorial === editori\n",
            "process\n",
            "process === process === process\n",
            "they\n",
            "they === they === they\n",
            "have\n",
            "have === have === have\n",
            "done\n",
            "done === do === done\n",
            "little\n",
            "little === little === littl\n",
            "to\n",
            "to === to === to\n",
            "dampen\n",
            "dampen === dampen === dampen\n",
            "public\n",
            "public === public === public\n",
            "use\n",
            "use === use === use\n",
            "of\n",
            "of === of === of\n",
            "the\n",
            "the === the === the\n",
            "resource\n",
            "resource === resource === resourc\n",
            "which\n",
            "which === which === which\n",
            "is\n",
            "is === be === is\n",
            "one\n",
            "one === one === one\n",
            "of\n",
            "of === of === of\n",
            "the\n",
            "the === the === the\n",
            "most\n",
            "most === most === most\n",
            "visited\n",
            "visited === visited === visit\n",
            "sites\n",
            "sites === site === site\n",
            "on\n",
            "on === on === on\n",
            "the\n",
            "the === the === the\n",
            "Internet\n",
            "Internet === Internet === internet\n"
          ]
        }
      ]
    }
  ]
}